{
 "cells": [
  {
   "cell_type": "code",
   "execution_count": 5,
   "metadata": {},
   "outputs": [],
   "source": [
    "import requests  # go out and fetch\n",
    "import pandas as pd\n",
    "import numpy as np\n",
    "import time\n",
    "from datetime import datetime\n",
    "import re\n",
    "import seaborn as sns\n",
    "\n",
    "\n",
    "#function to iterate through files and have filename in the row for pandas\n",
    "def nextfile(x):\n",
    "    return(x)\n",
    "\n",
    "\n",
    "\n",
    "def inlist(sentence):\n",
    "    print(any(ele in sentence for ele in peeps))\n",
    "    # res = [all([k in s for k in words]) for s in sentence]\n",
    "    # return [sentence[i] for i in range(0, len(res)) if res[i]]"
   ]
  },
  {
   "cell_type": "code",
   "execution_count": 6,
   "metadata": {},
   "outputs": [],
   "source": [
    "therapist = [\"therapist:\", \"th:\"]\n",
    "patient = [\"client:\", \"cl:\"]\n",
    "peeps = therapist + patient\n",
    "\n",
    "col_names = ['fname','therapist','sentence', 'timestamp'] \n",
    "df = pd.DataFrame(columns=col_names)#[[\"filename\",\"3\",\"sent\",\"time\"]],columns=col_names)\n",
    "ts_pattern = re.compile('\\[\\d\\d:\\d\\d\\:\\d\\d\\]')\n",
    "df_append = pd.DataFrame(columns=col_names)\n",
    "\n",
    "fname = \"SR_April_29__2014\""
   ]
  },
  {
   "cell_type": "code",
   "execution_count": null,
   "metadata": {},
   "outputs": [],
   "source": [
    "\n",
    "with open('/Users/anjalee/Desktop/DemoFolder/pythonSubDir/session_transcripts/Client__SR___Session_April_29__2014.txt','r') as f:\n",
    "    for line in f:\n",
    "        line = f.readline() # read line\n",
    "        \n",
    "        line = line.lower() # lowercase\n",
    "        line = line.encode(\"ascii\", \"ignore\") # rid of non-ascii\n",
    "        line = line.decode()\n",
    "        \n",
    "        if ts_pattern.search(line): # catch & remove timestamps\n",
    "            ts = ts_pattern.findall(line)\n",
    "        else: ts = \"no time\"\n",
    "        line = re.sub('\\[\\d\\d:\\d\\d\\:\\d\\d\\]','', line)\n",
    "\n",
    "        if 'therapist:' in line:\n",
    "            df_append = pd.DataFrame([[fname,'1',line,ts]], columns=col_names) \n",
    "            # create new df to store new entry (bc append() is gone)         \n",
    "        elif 'client:' in line:           \n",
    "            df_append = pd.DataFrame([[fname,'0',line,ts]], columns=col_names)           \n",
    "        df = pd.concat([df, df_append])\n",
    "        # print(df.sentence[390:399])\n",
    "        \n",
    "        \n",
    "        if not line:\n",
    "            break\n",
    "       \n",
    "print(df[390:399])"
   ]
  },
  {
   "cell_type": "code",
   "execution_count": 11,
   "metadata": {},
   "outputs": [
    {
     "ename": "SyntaxError",
     "evalue": "invalid syntax (1198878261.py, line 1)",
     "output_type": "error",
     "traceback": [
      "\u001b[0;36m  Input \u001b[0;32mIn [11]\u001b[0;36m\u001b[0m\n\u001b[0;31m    df.sentence[if '\\n' in df.sentence]\u001b[0m\n\u001b[0m                ^\u001b[0m\n\u001b[0;31mSyntaxError\u001b[0m\u001b[0;31m:\u001b[0m invalid syntax\n"
     ]
    }
   ],
   "source": [
    "df.loc[df[\"sentence\"] in df.sentence]"
   ]
  }
 ],
 "metadata": {
  "kernelspec": {
   "display_name": "Python 3.9.12 ('base')",
   "language": "python",
   "name": "python3"
  },
  "language_info": {
   "codemirror_mode": {
    "name": "ipython",
    "version": 3
   },
   "file_extension": ".py",
   "mimetype": "text/x-python",
   "name": "python",
   "nbconvert_exporter": "python",
   "pygments_lexer": "ipython3",
   "version": "3.9.12"
  },
  "orig_nbformat": 4,
  "vscode": {
   "interpreter": {
    "hash": "e53a1de6331a3486ad3d80a29be51a110bb72abd98c90fec015969e81bcb9a42"
   }
  }
 },
 "nbformat": 4,
 "nbformat_minor": 2
}
