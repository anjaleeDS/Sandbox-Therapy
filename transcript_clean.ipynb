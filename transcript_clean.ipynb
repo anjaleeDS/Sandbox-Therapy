{
 "cells": [
  {
   "cell_type": "code",
   "execution_count": null,
   "metadata": {},
   "outputs": [],
   "source": [
    "import requests  # go out and fetch\n",
    "import pandas as pd\n",
    "import numpy as np\n",
    "import re\n",
    "import seaborn as sns\n",
    "import string\n",
    "import os\n",
    "import glob\n",
    "import nltk\n",
    "from nltk.stem.porter import PorterStemmer\n",
    "from nltk import word_tokenize, WordNetLemmatizer\n",
    "from nltk.corpus import stopwords\n",
    "nltk.download(\"stopwords\")\n",
    "nltk.download('wordnet')\n",
    "nltk.download('punkt')\n",
    "nltk.download('omw-1.4')\n",
    "\n",
    "from wordcloud import WordCloud\n",
    "import matplotlib.pyplot as plt\n"
   ]
  },
  {
   "cell_type": "code",
   "execution_count": 2,
   "metadata": {},
   "outputs": [],
   "source": [
    "file_folder = '/Users/anjalee/Desktop/DemoFolder/pythonSubDir/session_transcripts/*.txt'\n",
    "therapist = [\"therapist:\", \"th:\"]\n",
    "patient = [\"client:\", \"cl:\"]\n",
    "col_names = ['fname','therapist','sentence'] \n",
    "df = pd.DataFrame(columns=col_names)\n",
    "\n",
    "ts_pattern = re.compile('\\[\\d\\d:\\d\\d\\:\\d\\d\\]')\n",
    "df_append = pd.DataFrame(columns=col_names)\n",
    "p_dt = '\\d\\:\\d\\d\\:\\d\\d' #timestamp pattern\n",
    "\n",
    "stop_words = set(stopwords.words(\"english\"))\n",
    "\n",
    "lemma = WordNetLemmatizer()"
   ]
  },
  {
   "cell_type": "code",
   "execution_count": 3,
   "metadata": {},
   "outputs": [],
   "source": [
    "def cleanup_sentences(sentence):\n",
    "    text = re.sub('[^a-zA-Z]',\" \", sentence) # Removing non a-z characters\n",
    "    # text = sentence\n",
    "    print(sentence) # Print out non-cleaned text\n",
    "    text = text.lower() # Lowering all text\n",
    "    text = word_tokenize(text, language=\"english\") # Splitting each word into an element of a list\n",
    "    text = [lemma.lemmatize(word) for word in text if(word) not in stop_words] # Lemmatizing words and removing stopwords\n",
    "    text = \" \".join(text) # Putting words back into a single string. ['the', 'brown', 'cow'] --> 'the brown cow'\n",
    "    print(text, '\\n') # Print out cleaned text\n",
    "    return text\n",
    "\n",
    "# wordcloud function\n",
    " \n",
    "def show_wordcloud(data, title = None):\n",
    "    wordcloud = WordCloud(\n",
    "        background_color = 'white',\n",
    "        max_words = 200,\n",
    "        max_font_size = 40, \n",
    "        scale = 3,\n",
    "        random_state = 42\n",
    "    ).generate(str(data))\n",
    " \n",
    "    fig = plt.figure(1, figsize = (20, 20))\n",
    "    plt.axis('off')\n",
    "    if title: \n",
    "        fig.suptitle(title, fontsize = 20)\n",
    "        fig.subplots_adjust(top = 2.3)\n",
    " \n",
    "    plt.imshow(wordcloud)\n",
    "    plt.show()\n",
    "\n",
    "\n"
   ]
  },
  {
   "cell_type": "code",
   "execution_count": null,
   "metadata": {},
   "outputs": [],
   "source": [
    "# Get files\n",
    "folder = '/Users/anjalee/Desktop/DemoFolder/pythonSubDir/session_transcripts/*.txt'\n",
    "\n",
    "for fpath in glob.iglob(folder):\n",
    "\n",
    "    with open(fpath,'r') as f:\n",
    "        fname = fpath.split(\"transcripts/\")\n",
    "        for line in f:\n",
    "            line = f.readline() # read line\n",
    "\n",
    "    #CLEAN IN THIS ORDER\n",
    "            \n",
    "            line = line.lower() # lowercase\n",
    "            line = re.sub(p_dt,'', line) # extract all timestamps\n",
    "            #extract all stop_words\n",
    "\n",
    "            df_append = pd.DataFrame(columns=col_names) # clear df_append from last time\n",
    "            if ('therapist:' in line) or ('th:' in line):\n",
    "                #remove the label from beginning of sentence\n",
    "                line = line.removeprefix(\"therapist\") \n",
    "                line = line.removeprefix(\"th\")\n",
    "                line = cleanup_sentences(line)\n",
    "\n",
    "                # line = line.translate(str.maketrans('', '', string.punctuation)) # extract all punctuation\n",
    "                # line = line.replace('\\n','') #clean the \\n off sentences\n",
    "                df_append = pd.DataFrame([[fname,'1',line]], columns=col_names) \n",
    "\n",
    "            elif ('client:' in line) or ('cl:' in line):\n",
    "                line = line.removeprefix('client'); \n",
    "                line = line.removeprefix('cl')\n",
    "                line = cleanup_sentences(line)\n",
    "                # line = line.translate(str.maketrans('', '', string.punctuation))\n",
    "                # line = line.replace('\\n','') #clean the \\n off sentences\n",
    "                df_append = pd.DataFrame([[fname,'0',line]], columns=col_names)     \n",
    "            \n",
    "            df = pd.concat([df, df_append]) #because append() is gone\n",
    "            \n",
    "            \n",
    "            if not line:\n",
    "                break\n",
    "        "
   ]
  },
  {
   "cell_type": "markdown",
   "metadata": {},
   "source": [
    "Get Frequency\n",
    "Word Cloud\n",
    "- Word Cloud between client and therapist\n",
    "- classification between client and therapist\n"
   ]
  },
  {
   "cell_type": "code",
   "execution_count": 44,
   "metadata": {},
   "outputs": [
    {
     "name": "stderr",
     "output_type": "stream",
     "text": [
      "/Users/anjalee/opt/anaconda3/lib/python3.9/site-packages/seaborn/distributions.py:2619: FutureWarning: `distplot` is a deprecated function and will be removed in a future version. Please adapt your code to use either `displot` (a figure-level function with similar flexibility) or `histplot` (an axes-level function for histograms).\n",
      "  warnings.warn(msg, FutureWarning)\n"
     ]
    },
    {
     "data": {
      "text/plain": [
       "<AxesSubplot:xlabel='sentence', ylabel='Density'>"
      ]
     },
     "execution_count": 44,
     "metadata": {},
     "output_type": "execute_result"
    },
    {
     "data": {
      "image/png": "[encoded data removed]",
      "text/plain": [
       "<Figure size 432x288 with 1 Axes>"
      ]
     },
     "metadata": {
      "needs_background": "light"
     },
     "output_type": "display_data"
    }
   ],
   "source": [
    "# Frequency\n",
    "word_frequ = df[\"sentence\"].str.split(expand=True).stack().value_counts()\n",
    "## Length of the Text using KDEplot\n",
    "length = df[\"sentence\"].str.len()\n",
    "sns.distplot(length)\n",
    "# sns.histplot(lenght)\n",
    "# plt.show()\n"
   ]
  },
  {
   "cell_type": "code",
   "execution_count": null,
   "metadata": {},
   "outputs": [],
   "source": [
    "\n",
    "# WordClouds!\n",
    "show_wordcloud(df['sentence']); \n",
    "# total, therapist only, client only\n",
    "show_wordcloud(df['sentence'].loc[df[\"therapist\"] == '1'], \"therapist\"); show_wordcloud(df['sentence'].loc[df[\"therapist\"] == '0'], \"client\")"
   ]
  },
  {
   "cell_type": "code",
   "execution_count": 37,
   "metadata": {},
   "outputs": [
    {
     "ename": "TypeError",
     "evalue": "expected string or bytes-like object",
     "output_type": "error",
     "traceback": [
      "\u001b[0;31m---------------------------------------------------------------------------\u001b[0m",
      "\u001b[0;31mTypeError\u001b[0m                                 Traceback (most recent call last)",
      "\u001b[1;32m/Users/anjalee/Desktop/DemoFolder/pythonSubDir/transcript_clean.ipynb Cell 7\u001b[0m in \u001b[0;36m<cell line: 1>\u001b[0;34m()\u001b[0m\n\u001b[0;32m----> <a href='vscode-notebook-cell:/Users/anjalee/Desktop/DemoFolder/pythonSubDir/transcript_clean.ipynb#ch0000027?line=0'>1</a>\u001b[0m wc \u001b[39m=\u001b[39m WordCloud(collocations\u001b[39m=\u001b[39;49m\u001b[39mFalse\u001b[39;49;00m)\u001b[39m.\u001b[39;49mgenerate(df[\u001b[39m'\u001b[39;49m\u001b[39msentence\u001b[39;49m\u001b[39m'\u001b[39;49m])\n\u001b[1;32m      <a href='vscode-notebook-cell:/Users/anjalee/Desktop/DemoFolder/pythonSubDir/transcript_clean.ipynb#ch0000027?line=2'>3</a>\u001b[0m plt\u001b[39m.\u001b[39mimshow(wc)\n\u001b[1;32m      <a href='vscode-notebook-cell:/Users/anjalee/Desktop/DemoFolder/pythonSubDir/transcript_clean.ipynb#ch0000027?line=3'>4</a>\u001b[0m plt\u001b[39m.\u001b[39mshow()\n",
      "File \u001b[0;32m~/opt/anaconda3/lib/python3.9/site-packages/wordcloud/wordcloud.py:639\u001b[0m, in \u001b[0;36mWordCloud.generate\u001b[0;34m(self, text)\u001b[0m\n\u001b[1;32m    624\u001b[0m \u001b[39mdef\u001b[39;00m \u001b[39mgenerate\u001b[39m(\u001b[39mself\u001b[39m, text):\n\u001b[1;32m    625\u001b[0m     \u001b[39m\"\"\"Generate wordcloud from text.\u001b[39;00m\n\u001b[1;32m    626\u001b[0m \n\u001b[1;32m    627\u001b[0m \u001b[39m    The input \"text\" is expected to be a natural text. If you pass a sorted\u001b[39;00m\n\u001b[0;32m   (...)\u001b[0m\n\u001b[1;32m    637\u001b[0m \u001b[39m    self\u001b[39;00m\n\u001b[1;32m    638\u001b[0m \u001b[39m    \"\"\"\u001b[39;00m\n\u001b[0;32m--> 639\u001b[0m     \u001b[39mreturn\u001b[39;00m \u001b[39mself\u001b[39;49m\u001b[39m.\u001b[39;49mgenerate_from_text(text)\n",
      "File \u001b[0;32m~/opt/anaconda3/lib/python3.9/site-packages/wordcloud/wordcloud.py:620\u001b[0m, in \u001b[0;36mWordCloud.generate_from_text\u001b[0;34m(self, text)\u001b[0m\n\u001b[1;32m    603\u001b[0m \u001b[39mdef\u001b[39;00m \u001b[39mgenerate_from_text\u001b[39m(\u001b[39mself\u001b[39m, text):\n\u001b[1;32m    604\u001b[0m     \u001b[39m\"\"\"Generate wordcloud from text.\u001b[39;00m\n\u001b[1;32m    605\u001b[0m \n\u001b[1;32m    606\u001b[0m \u001b[39m    The input \"text\" is expected to be a natural text. If you pass a sorted\u001b[39;00m\n\u001b[0;32m   (...)\u001b[0m\n\u001b[1;32m    618\u001b[0m \u001b[39m    self\u001b[39;00m\n\u001b[1;32m    619\u001b[0m \u001b[39m    \"\"\"\u001b[39;00m\n\u001b[0;32m--> 620\u001b[0m     words \u001b[39m=\u001b[39m \u001b[39mself\u001b[39;49m\u001b[39m.\u001b[39;49mprocess_text(text)\n\u001b[1;32m    621\u001b[0m     \u001b[39mself\u001b[39m\u001b[39m.\u001b[39mgenerate_from_frequencies(words)\n\u001b[1;32m    622\u001b[0m     \u001b[39mreturn\u001b[39;00m \u001b[39mself\u001b[39m\n",
      "File \u001b[0;32m~/opt/anaconda3/lib/python3.9/site-packages/wordcloud/wordcloud.py:582\u001b[0m, in \u001b[0;36mWordCloud.process_text\u001b[0;34m(self, text)\u001b[0m\n\u001b[1;32m    579\u001b[0m pattern \u001b[39m=\u001b[39m \u001b[39mr\u001b[39m\u001b[39m\"\u001b[39m\u001b[39m\\\u001b[39m\u001b[39mw[\u001b[39m\u001b[39m\\\u001b[39m\u001b[39mw\u001b[39m\u001b[39m'\u001b[39m\u001b[39m]*\u001b[39m\u001b[39m\"\u001b[39m \u001b[39mif\u001b[39;00m \u001b[39mself\u001b[39m\u001b[39m.\u001b[39mmin_word_length \u001b[39m<\u001b[39m\u001b[39m=\u001b[39m \u001b[39m1\u001b[39m \u001b[39melse\u001b[39;00m \u001b[39mr\u001b[39m\u001b[39m\"\u001b[39m\u001b[39m\\\u001b[39m\u001b[39mw[\u001b[39m\u001b[39m\\\u001b[39m\u001b[39mw\u001b[39m\u001b[39m'\u001b[39m\u001b[39m]+\u001b[39m\u001b[39m\"\u001b[39m\n\u001b[1;32m    580\u001b[0m regexp \u001b[39m=\u001b[39m \u001b[39mself\u001b[39m\u001b[39m.\u001b[39mregexp \u001b[39mif\u001b[39;00m \u001b[39mself\u001b[39m\u001b[39m.\u001b[39mregexp \u001b[39mis\u001b[39;00m \u001b[39mnot\u001b[39;00m \u001b[39mNone\u001b[39;00m \u001b[39melse\u001b[39;00m pattern\n\u001b[0;32m--> 582\u001b[0m words \u001b[39m=\u001b[39m re\u001b[39m.\u001b[39;49mfindall(regexp, text, flags)\n\u001b[1;32m    583\u001b[0m \u001b[39m# remove 's\u001b[39;00m\n\u001b[1;32m    584\u001b[0m words \u001b[39m=\u001b[39m [word[:\u001b[39m-\u001b[39m\u001b[39m2\u001b[39m] \u001b[39mif\u001b[39;00m word\u001b[39m.\u001b[39mlower()\u001b[39m.\u001b[39mendswith(\u001b[39m\"\u001b[39m\u001b[39m'\u001b[39m\u001b[39ms\u001b[39m\u001b[39m\"\u001b[39m) \u001b[39melse\u001b[39;00m word\n\u001b[1;32m    585\u001b[0m          \u001b[39mfor\u001b[39;00m word \u001b[39min\u001b[39;00m words]\n",
      "File \u001b[0;32m~/opt/anaconda3/lib/python3.9/re.py:241\u001b[0m, in \u001b[0;36mfindall\u001b[0;34m(pattern, string, flags)\u001b[0m\n\u001b[1;32m    233\u001b[0m \u001b[39mdef\u001b[39;00m \u001b[39mfindall\u001b[39m(pattern, string, flags\u001b[39m=\u001b[39m\u001b[39m0\u001b[39m):\n\u001b[1;32m    234\u001b[0m     \u001b[39m\"\"\"Return a list of all non-overlapping matches in the string.\u001b[39;00m\n\u001b[1;32m    235\u001b[0m \n\u001b[1;32m    236\u001b[0m \u001b[39m    If one or more capturing groups are present in the pattern, return\u001b[39;00m\n\u001b[0;32m   (...)\u001b[0m\n\u001b[1;32m    239\u001b[0m \n\u001b[1;32m    240\u001b[0m \u001b[39m    Empty matches are included in the result.\"\"\"\u001b[39;00m\n\u001b[0;32m--> 241\u001b[0m     \u001b[39mreturn\u001b[39;00m _compile(pattern, flags)\u001b[39m.\u001b[39;49mfindall(string)\n",
      "\u001b[0;31mTypeError\u001b[0m: expected string or bytes-like object"
     ]
    }
   ],
   "source": [
    "wc = WordCloud(collocations=False).generate(df['sentence'])\n",
    "\n",
    "plt.imshow(wc)\n",
    "plt.show()"
   ]
  },
  {
   "cell_type": "code",
   "execution_count": null,
   "metadata": {},
   "outputs": [],
   "source": [
    "\n",
    "\n",
    "\n",
    "# Since the text is small collocations are turned off and text is lower-cased\n",
    "wc = WordCloud(collocations=False).generate(df['sentence'])\n",
    "\n",
    "color_to_words = {\n",
    "    # words below will be colored with a green single color function\n",
    "    '#00ff00': ['beautiful', 'explicit', 'simple', 'sparse',\n",
    "                'readability', 'rules', 'practicality',\n",
    "                'explicitly', 'one', 'now', 'easy', 'obvious', 'better'],\n",
    "    # will be colored with a red single color function\n",
    "    'red': ['ugly', 'implicit', 'complex', 'complicated', 'nested',\n",
    "            'dense', 'special', 'errors', 'silently', 'ambiguity',\n",
    "            'guess', 'hard']\n",
    "}\n",
    "\n",
    "# Words that are not in any of the color_to_words values\n",
    "# will be colored with a grey single color function\n",
    "default_color = 'grey'\n",
    "\n",
    "# Create a color function with single tone\n",
    "# grouped_color_func = SimpleGroupedColorFunc(color_to_words, default_color)\n",
    "\n",
    "# Create a color function with multiple tones\n",
    "grouped_color_func = GroupedColorFunc(color_to_words, default_color)\n",
    "\n",
    "# Apply our color function\n",
    "wc.recolor(color_func=grouped_color_func)\n",
    "\n",
    "# Plot\n",
    "plt.figure()\n",
    "plt.imshow(wc, interpolation=\"bilinear\")\n",
    "plt.axis(\"off\")\n",
    "plt.show()"
   ]
  },
  {
   "cell_type": "code",
   "execution_count": 20,
   "metadata": {},
   "outputs": [],
   "source": [
    "from wordcloud import (WordCloud, get_single_color_func)\n",
    "import matplotlib.pyplot as plt\n",
    "\n",
    "\n",
    "class SimpleGroupedColorFunc(object):\n",
    "    \"\"\"Create a color function object which assigns EXACT colors\n",
    "       to certain words based on the color to words mapping\n",
    "\n",
    "       Parameters\n",
    "       ----------\n",
    "       color_to_words : dict(str -> list(str))\n",
    "         A dictionary that maps a color to the list of words.\n",
    "\n",
    "       default_color : str\n",
    "         Color that will be assigned to a word that's not a member\n",
    "         of any value from color_to_words.\n",
    "    \"\"\"\n",
    "\n",
    "    def __init__(self, color_to_words, default_color):\n",
    "        self.word_to_color = {word: color\n",
    "                              for (color, words) in color_to_words.items()\n",
    "                              for word in words}\n",
    "\n",
    "        self.default_color = default_color\n",
    "\n",
    "    def __call__(self, word, **kwargs):\n",
    "        return self.word_to_color.get(word, self.default_color)\n",
    "\n",
    "\n",
    "class GroupedColorFunc(object):\n",
    "    \"\"\"Create a color function object which assigns DIFFERENT SHADES of\n",
    "       specified colors to certain words based on the color to words mapping.\n",
    "\n",
    "       Uses wordcloud.get_single_color_func\n",
    "\n",
    "       Parameters\n",
    "       ----------\n",
    "       color_to_words : dict(str -> list(str))\n",
    "         A dictionary that maps a color to the list of words.\n",
    "\n",
    "       default_color : str\n",
    "         Color that will be assigned to a word that's not a member\n",
    "         of any value from color_to_words.\n",
    "    \"\"\"\n",
    "\n",
    "    def __init__(self, color_to_words, default_color):\n",
    "        self.color_func_to_words = [\n",
    "            (get_single_color_func(color), set(words))\n",
    "            for (color, words) in color_to_words.items()]\n",
    "\n",
    "        self.default_color_func = get_single_color_func(default_color)\n",
    "\n",
    "    def get_color_func(self, word):\n",
    "        \"\"\"Returns a single_color_func associated with the word\"\"\"\n",
    "        try:\n",
    "            color_func = next(\n",
    "                color_func for (color_func, words) in self.color_func_to_words\n",
    "                if word in words)\n",
    "        except StopIteration:\n",
    "            color_func = self.default_color_func\n",
    "\n",
    "        return color_func\n",
    "\n",
    "    def __call__(self, word, **kwargs):\n",
    "        return self.get_color_func(word)(word, **kwargs)\n",
    "\n"
   ]
  },
  {
   "cell_type": "code",
   "execution_count": 16,
   "metadata": {},
   "outputs": [
    {
     "data": {
      "image/png": "[encoded data removed]",
      "text/plain": [
       "<Figure size 432x288 with 1 Axes>"
      ]
     },
     "metadata": {
      "needs_background": "light"
     },
     "output_type": "display_data"
    }
   ],
   "source": [
    "from wordcloud import (WordCloud, get_single_color_func)\n",
    "import matplotlib.pyplot as plt\n",
    "\n",
    "\n",
    "class SimpleGroupedColorFunc(object):\n",
    "    \"\"\"Create a color function object which assigns EXACT colors\n",
    "       to certain words based on the color to words mapping\n",
    "\n",
    "       Parameters\n",
    "       ----------\n",
    "       color_to_words : dict(str -> list(str))\n",
    "         A dictionary that maps a color to the list of words.\n",
    "\n",
    "       default_color : str\n",
    "         Color that will be assigned to a word that's not a member\n",
    "         of any value from color_to_words.\n",
    "    \"\"\"\n",
    "\n",
    "    def __init__(self, color_to_words, default_color):\n",
    "        self.word_to_color = {word: color\n",
    "                              for (color, words) in color_to_words.items()\n",
    "                              for word in words}\n",
    "\n",
    "        self.default_color = default_color\n",
    "\n",
    "    def __call__(self, word, **kwargs):\n",
    "        return self.word_to_color.get(word, self.default_color)\n",
    "\n",
    "\n",
    "class GroupedColorFunc(object):\n",
    "    \"\"\"Create a color function object which assigns DIFFERENT SHADES of\n",
    "       specified colors to certain words based on the color to words mapping.\n",
    "\n",
    "       Uses wordcloud.get_single_color_func\n",
    "\n",
    "       Parameters\n",
    "       ----------\n",
    "       color_to_words : dict(str -> list(str))\n",
    "         A dictionary that maps a color to the list of words.\n",
    "\n",
    "       default_color : str\n",
    "         Color that will be assigned to a word that's not a member\n",
    "         of any value from color_to_words.\n",
    "    \"\"\"\n",
    "\n",
    "    def __init__(self, color_to_words, default_color):\n",
    "        self.color_func_to_words = [\n",
    "            (get_single_color_func(color), set(words))\n",
    "            for (color, words) in color_to_words.items()]\n",
    "\n",
    "        self.default_color_func = get_single_color_func(default_color)\n",
    "\n",
    "    def get_color_func(self, word):\n",
    "        \"\"\"Returns a single_color_func associated with the word\"\"\"\n",
    "        try:\n",
    "            color_func = next(\n",
    "                color_func for (color_func, words) in self.color_func_to_words\n",
    "                if word in words)\n",
    "        except StopIteration:\n",
    "            color_func = self.default_color_func\n",
    "\n",
    "        return color_func\n",
    "\n",
    "    def __call__(self, word, **kwargs):\n",
    "        return self.get_color_func(word)(word, **kwargs)\n",
    "\n",
    "\n",
    "# text = \"\"\"The Zen of Python, by Tim Peters\n",
    "# Beautiful is better than ugly.\n",
    "# Explicit is better than implicit.\n",
    "# Simple is better than complex.\n",
    "# Complex is better than complicated.\n",
    "# Flat is better than nested.\n",
    "# Sparse is better than dense.\n",
    "# Readability counts.\n",
    "# Special cases aren't special enough to break the rules.\n",
    "# Although practicality beats purity.\n",
    "# Errors should never pass silently.\n",
    "# Unless explicitly silenced.\n",
    "# In the face of ambiguity, refuse the temptation to guess.\n",
    "# There should be one-- and preferably only one --obvious way to do it.\n",
    "# Although that way may not be obvious at first unless you're Dutch.\n",
    "# Now is better than never.\n",
    "# Although never is often better than *right* now.\n",
    "# If the implementation is hard to explain, it's a bad idea.\n",
    "# If the implementation is easy to explain, it may be a good idea.\n",
    "# Namespaces are one honking great idea -- let's do more of those!\"\"\"\n",
    "\n",
    "# Since the text is small collocations are turned off and text is lower-cased\n",
    "wc = WordCloud(collocations=False).generate(text.lower())\n",
    "\n",
    "color_to_words = {\n",
    "    # words below will be colored with a green single color function\n",
    "    '#00ff00': ['beautiful', 'explicit', 'simple', 'sparse',\n",
    "                'readability', 'rules', 'practicality',\n",
    "                'explicitly', 'one', 'now', 'easy', 'obvious', 'better'],\n",
    "    # will be colored with a red single color function\n",
    "    'red': ['ugly', 'implicit', 'complex', 'complicated', 'nested',\n",
    "            'dense', 'special', 'errors', 'silently', 'ambiguity',\n",
    "            'guess', 'hard']\n",
    "}\n",
    "\n",
    "# Words that are not in any of the color_to_words values\n",
    "# will be colored with a grey single color function\n",
    "default_color = 'grey'\n",
    "\n",
    "# Create a color function with single tone\n",
    "# grouped_color_func = SimpleGroupedColorFunc(color_to_words, default_color)\n",
    "\n",
    "# Create a color function with multiple tones\n",
    "grouped_color_func = GroupedColorFunc(color_to_words, default_color)\n",
    "\n",
    "# Apply our color function\n",
    "wc.recolor(color_func=grouped_color_func)\n",
    "\n",
    "# Plot\n",
    "plt.figure()\n",
    "plt.imshow(wc, interpolation=\"bilinear\")\n",
    "plt.axis(\"off\")\n",
    "plt.show()"
   ]
  },
  {
   "cell_type": "code",
   "execution_count": 13,
   "metadata": {},
   "outputs": [
    {
     "ename": "NameError",
     "evalue": "name 'WordCloud' is not defined",
     "output_type": "error",
     "traceback": [
      "\u001b[0;31m---------------------------------------------------------------------------\u001b[0m",
      "\u001b[0;31mNameError\u001b[0m                                 Traceback (most recent call last)",
      "\u001b[1;32m/Users/anjalee/Desktop/DemoFolder/pythonSubDir/transcript_clean.ipynb Cell 7\u001b[0m in \u001b[0;36m<cell line: 1>\u001b[0;34m()\u001b[0m\n\u001b[0;32m----> <a href='vscode-notebook-cell:/Users/anjalee/Desktop/DemoFolder/pythonSubDir/transcript_clean.ipynb#ch0000013?line=0'>1</a>\u001b[0m wordcloud2 \u001b[39m=\u001b[39m WordCloud()\u001b[39m.\u001b[39mgenerate(\u001b[39m'\u001b[39m\u001b[39m \u001b[39m\u001b[39m'\u001b[39m\u001b[39m.\u001b[39mjoin(df[\u001b[39m'\u001b[39m\u001b[39msentence\u001b[39m\u001b[39m'\u001b[39m]))\n",
      "\u001b[0;31mNameError\u001b[0m: name 'WordCloud' is not defined"
     ]
    }
   ],
   "source": [
    "wordcloud2 = WordCloud().generate(' '.join(df['sentence']))"
   ]
  },
  {
   "cell_type": "code",
   "execution_count": 8,
   "metadata": {},
   "outputs": [
    {
     "data": {
      "text/plain": [
       "True"
      ]
     },
     "execution_count": 8,
     "metadata": {},
     "output_type": "execute_result"
    }
   ],
   "source": []
  },
  {
   "cell_type": "code",
   "execution_count": null,
   "metadata": {},
   "outputs": [],
   "source": []
  }
 ],
 "metadata": {
  "kernelspec": {
   "display_name": "Python 3.9.12 ('base')",
   "language": "python",
   "name": "python3"
  },
  "language_info": {
   "codemirror_mode": {
    "name": "ipython",
    "version": 3
   },
   "file_extension": ".py",
   "mimetype": "text/x-python",
   "name": "python",
   "nbconvert_exporter": "python",
   "pygments_lexer": "ipython3",
   "version": "3.9.12"
  },
  "orig_nbformat": 4,
  "vscode": {
   "interpreter": {
    "hash": "e53a1de6331a3486ad3d80a29be51a110bb72abd98c90fec015969e81bcb9a42"
   }
  }
 },
 "nbformat": 4,
 "nbformat_minor": 2
}
