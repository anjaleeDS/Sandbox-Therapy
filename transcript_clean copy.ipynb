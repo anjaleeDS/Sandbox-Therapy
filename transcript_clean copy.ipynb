{
 "cells": [
  {
   "cell_type": "code",
   "execution_count": 40,
   "metadata": {},
   "outputs": [],
   "source": [
    "import requests  # go out and fetch\n",
    "import pandas as pd\n",
    "import numpy as np\n",
    "import time\n",
    "from datetime import datetime\n",
    "import re\n",
    "import seaborn as sns\n",
    "\n",
    "\n",
    "#function to iterate through files and have filename in the row for pandas\n",
    "def nextfile(x):\n",
    "    return(x)\n",
    "\n",
    "\n",
    "\n",
    "def inlist(sentence):\n",
    "    print(any(ele in sentence for ele in peeps))\n",
    "    # res = [all([k in s for k in words]) for s in sentence]\n",
    "    # return [sentence[i] for i in range(0, len(res)) if res[i]]"
   ]
  },
  {
   "cell_type": "code",
   "execution_count": 41,
   "metadata": {},
   "outputs": [],
   "source": [
    "therapist = [\"therapist:\", \"th:\"]\n",
    "patient = [\"client:\", \"cl:\"]\n",
    "\n",
    "col_names = ['fname','therapist','sentence', 'timestamp'] \n",
    "df = pd.DataFrame(columns=col_names)\n",
    "ts_pattern = re.compile('\\[\\d\\d:\\d\\d\\:\\d\\d\\]')\n",
    "df_append = pd.DataFrame(columns=col_names)\n",
    "\n"
   ]
  },
  {
   "cell_type": "code",
   "execution_count": 42,
   "metadata": {},
   "outputs": [],
   "source": [
    "\n",
    "# fname = \"S___Session_February_17__2014\"\n",
    "# fpath = '/Users/anjalee/Desktop/DemoFolder/pythonSubDir/session_transcripts/Client__S___Session_February_17__2014.txt'\n",
    "\n",
    "fname = \"A___Session_April_03__2014\"\n",
    "fpath = '/Users/anjalee/Desktop/DemoFolder/pythonSubDir/session_transcripts/Client__A___Session_April_03__2014.txt'\n",
    "\n",
    "\n",
    "with open(fpath,'r') as f:\n",
    "    for line in f:\n",
    "        line = f.readline() # read line\n",
    "        \n",
    "        line = line.lower() # lowercase\n",
    "        line = line.encode(\"ascii\", \"ignore\") # rid of non-ascii, i know this can mush two words together if there's a '-' in the middle\n",
    "        line = line.decode()\n",
    "        \n",
    "        if ts_pattern.search(line): # catch & remove timestamps\n",
    "            ts = ts_pattern.findall(line)      \n",
    "        else: ts = \"no time\"\n",
    "        # re.sub(ts_pattern,'', line) #DOESNT WORK  extract all timestamps\n",
    "        \n",
    "        df_append = pd.DataFrame(columns=col_names) # clear df_append from last time\n",
    "        if ('therapist:' in line) or ('th:' in line):\n",
    "            df_append = pd.DataFrame([[fname,'1',line,ts]], columns=col_names) \n",
    "\n",
    "        elif ('client:' in line) or ('cl:' in line):           \n",
    "            df_append = pd.DataFrame([[fname,'0',line,ts]], columns=col_names)           \n",
    "        \n",
    "        df = pd.concat([df, df_append]) #because append() is gone\n",
    "        \n",
    "        \n",
    "        if not line:\n",
    "            break\n",
    "       "
   ]
  },
  {
   "cell_type": "code",
   "execution_count": 43,
   "metadata": {},
   "outputs": [],
   "source": [
    "temp = \"CLIENT: So (pause) it’s been very hard between Jennie [and I] (ph) the last few days. [0:01:04] I think—[we even talked about it] (ph) a little bit. I’ve been really, really angry about (pause)… I mean, it’s really functionally—the series of interactions that we’ve had about time hasn’t had too profound an impact on time that I have or don’t have. But it’s been very profound as a matter of legitimacy, [I mean] (ph) the legitimacy of working on this or that. [0:01:55] And this (pause) interaction we had on Monday, she sent me a really obnoxious e-mail while she was in the kitchen and I was in my office, asking me why I wasn’t working better and making more productive use of her parents, that I was being—I mean, there were a number of things that were upsetting. And I think I mentioned them on Tuesday. I think?\""
   ]
  },
  {
   "cell_type": "code",
   "execution_count": 44,
   "metadata": {},
   "outputs": [
    {
     "ename": "SyntaxError",
     "evalue": "invalid syntax (593081010.py, line 1)",
     "output_type": "error",
     "traceback": [
      "\u001b[0;36m  Input \u001b[0;32mIn [44]\u001b[0;36m\u001b[0m\n\u001b[0;31m    tpat =\u001b[0m\n\u001b[0m           ^\u001b[0m\n\u001b[0;31mSyntaxError\u001b[0m\u001b[0;31m:\u001b[0m invalid syntax\n"
     ]
    }
   ],
   "source": [
    "tpat = \n",
    "re.sub(ts_pattern,'', temp)\n"
   ]
  },
  {
   "cell_type": "code",
   "execution_count": null,
   "metadata": {},
   "outputs": [],
   "source": []
  }
 ],
 "metadata": {
  "kernelspec": {
   "display_name": "Python 3.9.12 ('base')",
   "language": "python",
   "name": "python3"
  },
  "language_info": {
   "codemirror_mode": {
    "name": "ipython",
    "version": 3
   },
   "file_extension": ".py",
   "mimetype": "text/x-python",
   "name": "python",
   "nbconvert_exporter": "python",
   "pygments_lexer": "ipython3",
   "version": "3.9.12"
  },
  "orig_nbformat": 4,
  "vscode": {
   "interpreter": {
    "hash": "e53a1de6331a3486ad3d80a29be51a110bb72abd98c90fec015969e81bcb9a42"
   }
  }
 },
 "nbformat": 4,
 "nbformat_minor": 2
}
